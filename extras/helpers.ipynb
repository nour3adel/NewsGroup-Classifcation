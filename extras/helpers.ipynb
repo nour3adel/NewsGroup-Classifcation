{
 "cells": [
  {
   "attachments": {},
   "cell_type": "markdown",
   "metadata": {},
   "source": [
    "### Convert Tar (zip)  to files"
   ]
  },
  {
   "cell_type": "code",
   "execution_count": 1,
   "metadata": {},
   "outputs": [],
   "source": [
    "# import tarfile\n",
    "\n",
    "# # Open the compressed archive file\n",
    "# tar = tarfile.open(\"Data/Zip20news-bydate.tar.gz\")\n",
    "\n",
    "# # Extract the contents of the archive to a directory\n",
    "# tar.extractall(\"20news-b1231\")\n",
    "\n",
    "# # Close the archive file\n",
    "# tar.close()"
   ]
  },
  {
   "attachments": {},
   "cell_type": "markdown",
   "metadata": {},
   "source": [
    "### Convert to csv files"
   ]
  },
  {
   "cell_type": "code",
   "execution_count": 2,
   "metadata": {},
   "outputs": [],
   "source": [
    "# import os\n",
    "# import pandas as pd\n",
    "\n",
    "# # Load the data using load_files()\n",
    "# newsdata = load_files(path, description=None, categories=categories, load_content=True, shuffle=True, encoding='windows-1252', decode_error='strict', random_state=0)\n",
    "\n",
    "# # Create a list of dictionaries containing the data\n",
    "# data = []\n",
    "# for i in range(len(newsdata.data)):\n",
    "#     data.append({'content': newsdata.data[i], 'name': os.path.basename(newsdata.filenames[i]), 'type': newsdata.target_names[newsdata.target[i]]})\n",
    "\n",
    "# # Create a DataFrame from the list of dictionaries\n",
    "# df = pd.DataFrame(data)\n",
    "\n",
    "# # Write the DataFrame to a CSV file\n",
    "# df.to_csv('newsdata.csv', index=False)\n",
    "\n",
    "#data =pd.read_csv(\"newsdata.csv\")"
   ]
  },
  {
   "attachments": {},
   "cell_type": "markdown",
   "metadata": {},
   "source": [
    "## read pickle"
   ]
  },
  {
   "cell_type": "code",
   "execution_count": 3,
   "metadata": {},
   "outputs": [],
   "source": [
    "# # Load the newsdata variable from the pickle file\n",
    "# with open('Data/Pickle/newsdata.pickle', 'rb') as f:\n",
    "#     newsdata = pickle.load(f)\n",
    "\n",
    "#newsdata =  pd.read_pickle ('Data/Models/NBmodel.pickle')"
   ]
  },
  {
   "attachments": {},
   "cell_type": "markdown",
   "metadata": {},
   "source": [
    "## write in a pickle"
   ]
  },
  {
   "cell_type": "code",
   "execution_count": 4,
   "metadata": {},
   "outputs": [],
   "source": [
    "# # Save the newsdata variable to a pickle file\n",
    "# with open('Data/Pickle/newsdata.pickle', 'wb') as f:\n",
    "#     pickle.dump(newsdata, f)"
   ]
  }
 ],
 "metadata": {
  "kernelspec": {
   "display_name": "Python 3",
   "language": "python",
   "name": "python3"
  },
  "language_info": {
   "codemirror_mode": {
    "name": "ipython",
    "version": 3
   },
   "file_extension": ".py",
   "mimetype": "text/x-python",
   "name": "python",
   "nbconvert_exporter": "python",
   "pygments_lexer": "ipython3",
   "version": "3.10.3"
  },
  "orig_nbformat": 4
 },
 "nbformat": 4,
 "nbformat_minor": 2
}
